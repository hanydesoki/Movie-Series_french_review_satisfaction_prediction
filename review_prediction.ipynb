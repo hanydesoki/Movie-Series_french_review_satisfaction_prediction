{
 "cells": [
  {
   "cell_type": "markdown",
   "id": "35948a71",
   "metadata": {},
   "source": [
    "# Movie/Series french review satisfaction prediction\n",
    "\n",
    "## Importation"
   ]
  },
  {
   "cell_type": "code",
   "execution_count": 1,
   "id": "84aae957",
   "metadata": {},
   "outputs": [
    {
     "name": "stderr",
     "output_type": "stream",
     "text": [
      "[nltk_data] Downloading package stopwords to\n",
      "[nltk_data]     C:\\Users\\Hany\\AppData\\Roaming\\nltk_data...\n",
      "[nltk_data]   Package stopwords is already up-to-date!\n",
      "[nltk_data] Downloading package wordnet to\n",
      "[nltk_data]     C:\\Users\\Hany\\AppData\\Roaming\\nltk_data...\n",
      "[nltk_data]   Package wordnet is already up-to-date!\n"
     ]
    }
   ],
   "source": [
    "import pandas as pd\n",
    "import numpy as np\n",
    "import matplotlib.pyplot as plt\n",
    "import seaborn as sns\n",
    "from sklearn.model_selection import train_test_split\n",
    "from sklearn.metrics import accuracy_score, precision_score, recall_score, f1_score, classification_report, confusion_matrix\n",
    "import keras\n",
    "import tqdm\n",
    "\n",
    "from data_science import prexplo, utils\n",
    "from custom_nlp import TFIDFTransformer\n",
    "from mygenerator import MyRange"
   ]
  },
  {
   "cell_type": "markdown",
   "id": "3a035d38",
   "metadata": {},
   "source": [
    "## Reading data"
   ]
  },
  {
   "cell_type": "code",
   "execution_count": 2,
   "id": "3de82671",
   "metadata": {},
   "outputs": [],
   "source": [
    "data = pd.read_csv('allocine_reviews.csv')\n",
    "data.drop('Unnamed: 0', axis=1, inplace=True)"
   ]
  },
  {
   "cell_type": "code",
   "execution_count": 3,
   "id": "4cf08a5c",
   "metadata": {},
   "outputs": [
    {
     "name": "stdout",
     "output_type": "stream",
     "text": [
      "(10189, 3)\n"
     ]
    },
    {
     "data": {
      "text/html": [
       "<div>\n",
       "<style scoped>\n",
       "    .dataframe tbody tr th:only-of-type {\n",
       "        vertical-align: middle;\n",
       "    }\n",
       "\n",
       "    .dataframe tbody tr th {\n",
       "        vertical-align: top;\n",
       "    }\n",
       "\n",
       "    .dataframe thead th {\n",
       "        text-align: right;\n",
       "    }\n",
       "</style>\n",
       "<table border=\"1\" class=\"dataframe\">\n",
       "  <thead>\n",
       "    <tr style=\"text-align: right;\">\n",
       "      <th></th>\n",
       "      <th>movie_series_name</th>\n",
       "      <th>review_note</th>\n",
       "      <th>review_text</th>\n",
       "    </tr>\n",
       "  </thead>\n",
       "  <tbody>\n",
       "    <tr>\n",
       "      <th>0</th>\n",
       "      <td>Top Gun: Maverick</td>\n",
       "      <td>5.0</td>\n",
       "      <td>\\nEnfin un film qui sort du lot .. même si cer...</td>\n",
       "    </tr>\n",
       "    <tr>\n",
       "      <th>1</th>\n",
       "      <td>Top Gun: Maverick</td>\n",
       "      <td>5.0</td>\n",
       "      <td>\\nIl n'y a pas assez d'étoiles pour qualifier ...</td>\n",
       "    </tr>\n",
       "    <tr>\n",
       "      <th>2</th>\n",
       "      <td>Top Gun: Maverick</td>\n",
       "      <td>4.5</td>\n",
       "      <td>\\nLa suite d'un classique a créé un autre clas...</td>\n",
       "    </tr>\n",
       "    <tr>\n",
       "      <th>3</th>\n",
       "      <td>Top Gun: Maverick</td>\n",
       "      <td>4.5</td>\n",
       "      <td>\\nRares sont les bonnes suites. Alors imaginez...</td>\n",
       "    </tr>\n",
       "    <tr>\n",
       "      <th>4</th>\n",
       "      <td>Top Gun: Maverick</td>\n",
       "      <td>4.0</td>\n",
       "      <td>\\nDès les premières secondes, la nostalgie du ...</td>\n",
       "    </tr>\n",
       "  </tbody>\n",
       "</table>\n",
       "</div>"
      ],
      "text/plain": [
       "   movie_series_name  review_note  \\\n",
       "0  Top Gun: Maverick          5.0   \n",
       "1  Top Gun: Maverick          5.0   \n",
       "2  Top Gun: Maverick          4.5   \n",
       "3  Top Gun: Maverick          4.5   \n",
       "4  Top Gun: Maverick          4.0   \n",
       "\n",
       "                                         review_text  \n",
       "0  \\nEnfin un film qui sort du lot .. même si cer...  \n",
       "1  \\nIl n'y a pas assez d'étoiles pour qualifier ...  \n",
       "2  \\nLa suite d'un classique a créé un autre clas...  \n",
       "3  \\nRares sont les bonnes suites. Alors imaginez...  \n",
       "4  \\nDès les premières secondes, la nostalgie du ...  "
      ]
     },
     "execution_count": 3,
     "metadata": {},
     "output_type": "execute_result"
    }
   ],
   "source": [
    "print(data.shape)\n",
    "data.head()"
   ]
  },
  {
   "cell_type": "code",
   "execution_count": 4,
   "id": "57ba3f32",
   "metadata": {},
   "outputs": [
    {
     "data": {
      "text/html": [
       "<div>\n",
       "<style scoped>\n",
       "    .dataframe tbody tr th:only-of-type {\n",
       "        vertical-align: middle;\n",
       "    }\n",
       "\n",
       "    .dataframe tbody tr th {\n",
       "        vertical-align: top;\n",
       "    }\n",
       "\n",
       "    .dataframe thead th {\n",
       "        text-align: right;\n",
       "    }\n",
       "</style>\n",
       "<table border=\"1\" class=\"dataframe\">\n",
       "  <thead>\n",
       "    <tr style=\"text-align: right;\">\n",
       "      <th></th>\n",
       "      <th>Type</th>\n",
       "      <th>NaN count</th>\n",
       "      <th>NaN frequency</th>\n",
       "      <th>Number of unique values</th>\n",
       "    </tr>\n",
       "  </thead>\n",
       "  <tbody>\n",
       "    <tr>\n",
       "      <th>movie_series_name</th>\n",
       "      <td>object</td>\n",
       "      <td>0</td>\n",
       "      <td>0.0</td>\n",
       "      <td>11</td>\n",
       "    </tr>\n",
       "    <tr>\n",
       "      <th>review_note</th>\n",
       "      <td>float64</td>\n",
       "      <td>0</td>\n",
       "      <td>0.0</td>\n",
       "      <td>10</td>\n",
       "    </tr>\n",
       "    <tr>\n",
       "      <th>review_text</th>\n",
       "      <td>object</td>\n",
       "      <td>0</td>\n",
       "      <td>0.0</td>\n",
       "      <td>10165</td>\n",
       "    </tr>\n",
       "  </tbody>\n",
       "</table>\n",
       "</div>"
      ],
      "text/plain": [
       "                      Type  NaN count  NaN frequency  Number of unique values\n",
       "movie_series_name   object          0            0.0                       11\n",
       "review_note        float64          0            0.0                       10\n",
       "review_text         object          0            0.0                    10165"
      ]
     },
     "execution_count": 4,
     "metadata": {},
     "output_type": "execute_result"
    }
   ],
   "source": [
    "prexplo.describe_columns(data)"
   ]
  },
  {
   "cell_type": "markdown",
   "id": "434a7c47",
   "metadata": {},
   "source": [
    "Review ranking occurences"
   ]
  },
  {
   "cell_type": "code",
   "execution_count": 5,
   "id": "511a4cfa",
   "metadata": {},
   "outputs": [
    {
     "data": {
      "text/plain": [
       "Text(0, 0.5, 'Occurences')"
      ]
     },
     "execution_count": 5,
     "metadata": {},
     "output_type": "execute_result"
    },
    {
     "data": {
      "image/png": "[encoded data removed]",
      "text/plain": [
       "<Figure size 432x288 with 1 Axes>"
      ]
     },
     "metadata": {
      "needs_background": "light"
     },
     "output_type": "display_data"
    }
   ],
   "source": [
    "plt.figure()\n",
    "data['review_note'].value_counts().sort_index(ascending=False).plot.bar()\n",
    "plt.grid(True)\n",
    "plt.title('Review ratings')\n",
    "plt.xlabel('Rating')\n",
    "plt.ylabel('Occurences')"
   ]
  },
  {
   "cell_type": "code",
   "execution_count": 6,
   "id": "0cb44bfd",
   "metadata": {},
   "outputs": [
    {
     "data": {
      "text/plain": [
       "Text(0, 0.5, 'Frequency')"
      ]
     },
     "execution_count": 6,
     "metadata": {},
     "output_type": "execute_result"
    },
    {
     "data": {
      "image/png": "[encoded data removed]",
      "text/plain": [
       "<Figure size 432x288 with 1 Axes>"
      ]
     },
     "metadata": {
      "needs_background": "light"
     },
     "output_type": "display_data"
    }
   ],
   "source": [
    "plt.figure()\n",
    "data['review_text'].map(len).plot.hist()\n",
    "plt.grid(True)\n",
    "plt.title('Review text lenght distributions')\n",
    "plt.xlabel('Lenght')\n",
    "plt.ylabel('Frequency')"
   ]
  },
  {
   "cell_type": "markdown",
   "id": "f398774b",
   "metadata": {},
   "source": [
    "## Preprocessing"
   ]
  },
  {
   "cell_type": "code",
   "execution_count": 7,
   "id": "f70574cc",
   "metadata": {},
   "outputs": [],
   "source": [
    "df = data.copy()"
   ]
  },
  {
   "cell_type": "markdown",
   "id": "3682db94",
   "metadata": {},
   "source": [
    "- Split data\n",
    "- Get y: 1 if review note is greater than 2.5, 0 otherwise.\n",
    "- Get x by passing review texts in tfidf vectorizer algorithms, TFIDFTransformer class clean text by removing punctuation, removing stopwords and lemmatize words and then pass it to the tfidf algorithm from sklearn. "
   ]
  },
  {
   "cell_type": "code",
   "execution_count": 8,
   "id": "9894d7c6",
   "metadata": {},
   "outputs": [
    {
     "name": "stdout",
     "output_type": "stream",
     "text": [
      "Train shape: (8151, 24537)\n",
      "Test shape: (2038, 24537)\n"
     ]
    }
   ],
   "source": [
    "df_train, df_test = train_test_split(df, test_size=0.2, random_state=0)\n",
    "\n",
    "y_train = (df_train['review_note'] >= 2.5).astype('int').values\n",
    "y_test = (df_test['review_note'] >= 2.5).astype('int').values\n",
    "\n",
    "tfidf_transformer = TFIDFTransformer()\n",
    "tfidf_transformer.fit(df_train['review_text'].values)\n",
    "\n",
    "x_train = tfidf_transformer.transform(df_train['review_text'].values)\n",
    "x_test = tfidf_transformer.transform(df_test['review_text'].values)\n",
    "\n",
    "print('Train shape:', x_train.shape)\n",
    "print('Test shape:', x_test.shape)"
   ]
  },
  {
   "cell_type": "markdown",
   "id": "521b0279",
   "metadata": {},
   "source": [
    "## Modelisation\n",
    "\n",
    "Build a neural network model"
   ]
  },
  {
   "cell_type": "code",
   "execution_count": 9,
   "id": "39e8f35d",
   "metadata": {},
   "outputs": [
    {
     "name": "stdout",
     "output_type": "stream",
     "text": [
      "Model: \"sequential\"\n",
      "_________________________________________________________________\n",
      "Layer (type)                 Output Shape              Param #   \n",
      "=================================================================\n",
      "dense (Dense)                (None, 128)               3140864   \n",
      "_________________________________________________________________\n",
      "dense_1 (Dense)              (None, 128)               16512     \n",
      "_________________________________________________________________\n",
      "dense_2 (Dense)              (None, 1)                 129       \n",
      "=================================================================\n",
      "Total params: 3,157,505\n",
      "Trainable params: 3,157,505\n",
      "Non-trainable params: 0\n",
      "_________________________________________________________________\n"
     ]
    }
   ],
   "source": [
    "# Model initialisation\n",
    "model = keras.Sequential()\n",
    "\n",
    "# Add layers\n",
    "model.add(keras.layers.Input(shape=(x_train.shape[-1],)))\n",
    "model.add(keras.layers.Dense(128, activation='relu'))\n",
    "model.add(keras.layers.Dense(128, activation='relu'))\n",
    "model.add(keras.layers.Dense(1, activation='sigmoid'))\n",
    "\n",
    "# Print model summary\n",
    "model.summary()\n",
    "\n",
    "# Optimizing false negative\n",
    "model.compile(optimizer='adam', loss='binary_crossentropy', metrics=[keras.metrics.FalsePositives()])"
   ]
  },
  {
   "cell_type": "markdown",
   "id": "b7eeddbc",
   "metadata": {},
   "source": [
    "Train model"
   ]
  },
  {
   "cell_type": "code",
   "execution_count": 10,
   "id": "9c1fa754",
   "metadata": {},
   "outputs": [
    {
     "name": "stdout",
     "output_type": "stream",
     "text": [
      "Epoch 1/5\n",
      "128/128 [==============================] - 3s 23ms/step - loss: 0.3267 - false_positives: 916.0000\n",
      "Epoch 2/5\n",
      "128/128 [==============================] - 3s 22ms/step - loss: 0.1306 - false_positives: 523.0000\n",
      "Epoch 3/5\n",
      "128/128 [==============================] - 3s 22ms/step - loss: 0.0376 - false_positives: 34.0000\n",
      "Epoch 4/5\n",
      "128/128 [==============================] - 3s 21ms/step - loss: 0.0089 - false_positives: 6.0000TA: 1s - loss: \n",
      "Epoch 5/5\n",
      "128/128 [==============================] - 3s 21ms/step - loss: 0.0030 - false_positives: 0.0000e+00\n"
     ]
    },
    {
     "data": {
      "text/plain": [
       "<tensorflow.python.keras.callbacks.History at 0x21ba6c4b730>"
      ]
     },
     "execution_count": 10,
     "metadata": {},
     "output_type": "execute_result"
    }
   ],
   "source": [
    "model.fit(x_train, y_train, batch_size=64, epochs=5)"
   ]
  },
  {
   "cell_type": "markdown",
   "id": "5a13050a",
   "metadata": {},
   "source": [
    "## Evaluation"
   ]
  },
  {
   "cell_type": "markdown",
   "id": "1b55b1b5",
   "metadata": {},
   "source": [
    "Register multiple scores for different decicsion tresholds and plot them."
   ]
  },
  {
   "cell_type": "code",
   "execution_count": 11,
   "id": "3ca5099e",
   "metadata": {},
   "outputs": [
    {
     "name": "stderr",
     "output_type": "stream",
     "text": [
      "100%|██████████| 99/99 [00:01<00:00, 65.72it/s]\n"
     ]
    },
    {
     "data": {
      "text/plain": [
       "Text(0.5, 1.0, 'Score evolution with different decision tresholds.')"
      ]
     },
     "execution_count": 11,
     "metadata": {},
     "output_type": "execute_result"
    },
    {
     "data": {
      "image/png": "[encoded data removed]",
      "text/plain": [
       "<Figure size 864x576 with 1 Axes>"
      ]
     },
     "metadata": {
      "needs_background": "light"
     },
     "output_type": "display_data"
    }
   ],
   "source": [
    "# Set tresholds between 0.01 and 0.99\n",
    "tresholds = MyRange(0.01, 1, 0.01)\n",
    "\n",
    "# Score initialisations\n",
    "train_acc = []\n",
    "test_acc = []\n",
    "train_prec = []\n",
    "test_prec = []\n",
    "train_rec = []\n",
    "test_rec = []\n",
    "train_f1 = []\n",
    "test_f1 = []\n",
    "\n",
    "# Predict probabilities with train and test\n",
    "y_train_prob = model.predict(x_train)\n",
    "y_test_prob = model.predict(x_test)\n",
    "\n",
    "# Loop through all tresholds\n",
    "for t in tqdm.tqdm(tresholds):\n",
    "    \n",
    "    # Predict statisfaction using current treshold\n",
    "    y_train_pred = (y_train_prob > t).astype('int')\n",
    "    y_test_pred = (y_test_prob > t).astype('int')\n",
    "    \n",
    "    # Get and store accuracy score\n",
    "    train_acc.append(accuracy_score(y_train, y_train_pred))\n",
    "    test_acc.append(accuracy_score(y_test, y_test_pred))\n",
    "    \n",
    "    # Get and store precision score\n",
    "    train_prec.append(precision_score(y_train, y_train_pred))\n",
    "    test_prec.append(precision_score(y_test, y_test_pred))\n",
    "    \n",
    "    # Get and store recall score\n",
    "    train_rec.append(recall_score(y_train, y_train_pred))\n",
    "    test_rec.append(recall_score(y_test, y_test_pred))\n",
    "    \n",
    "    # Get and store f1 score\n",
    "    train_f1.append(f1_score(y_train, y_train_pred))\n",
    "    test_f1.append(f1_score(y_test, y_test_pred))\n",
    "    \n",
    "# Plot scores\n",
    "plt.figure(figsize=(12, 8))\n",
    "\n",
    "plt.plot(tresholds, train_acc, label='Train accuracy', c='b', linestyle='-')\n",
    "plt.plot(tresholds, train_prec, label='Train precision', c='b', linestyle='--')\n",
    "plt.plot(tresholds, train_rec, label='Train recall', c='b', linestyle=':')\n",
    "plt.plot(tresholds, train_f1, label='Train f1', c='b', linestyle='-.')\n",
    "\n",
    "plt.plot(tresholds, test_acc, label='Test accuracy', c='r', linestyle='-')\n",
    "plt.plot(tresholds, test_prec, label='Test precision', c='r', linestyle='--')\n",
    "plt.plot(tresholds, test_rec, label='Test recall', c='r', linestyle=':')\n",
    "plt.plot(tresholds, test_f1, label='Test f1', c='r', linestyle='-.')\n",
    "\n",
    "plt.xlabel('Treshold')\n",
    "plt.ylabel('Score')\n",
    "plt.legend()\n",
    "plt.grid(True)\n",
    "\n",
    "plt.title('Score evolution with different decision tresholds.')"
   ]
  },
  {
   "cell_type": "markdown",
   "id": "0cd8d3f3",
   "metadata": {},
   "source": [
    "### Train confusion matrix"
   ]
  },
  {
   "cell_type": "code",
   "execution_count": 12,
   "id": "5c511a1a",
   "metadata": {},
   "outputs": [
    {
     "name": "stdout",
     "output_type": "stream",
     "text": [
      "              precision    recall  f1-score   support\n",
      "\n",
      "           0       1.00      1.00      1.00       916\n",
      "           1       1.00      1.00      1.00      7235\n",
      "\n",
      "    accuracy                           1.00      8151\n",
      "   macro avg       1.00      1.00      1.00      8151\n",
      "weighted avg       1.00      1.00      1.00      8151\n",
      "\n"
     ]
    },
    {
     "data": {
      "text/plain": [
       "<AxesSubplot:>"
      ]
     },
     "execution_count": 12,
     "metadata": {},
     "output_type": "execute_result"
    },
    {
     "data": {
      "image/png": "[encoded data removed]",
      "text/plain": [
       "<Figure size 432x288 with 2 Axes>"
      ]
     },
     "metadata": {
      "needs_background": "light"
     },
     "output_type": "display_data"
    }
   ],
   "source": [
    "final_treshold = 0.75\n",
    "\n",
    "y_train_pred = (model.predict(x_train) >= final_treshold).astype('int')\n",
    "\n",
    "print(classification_report(y_train, y_train_pred))\n",
    "sns.heatmap(confusion_matrix(y_train, y_train_pred), annot=True)"
   ]
  },
  {
   "cell_type": "markdown",
   "id": "b01a2b7c",
   "metadata": {},
   "source": [
    "### Test confusion matrix"
   ]
  },
  {
   "cell_type": "code",
   "execution_count": 13,
   "id": "5e785a54",
   "metadata": {},
   "outputs": [
    {
     "name": "stdout",
     "output_type": "stream",
     "text": [
      "              precision    recall  f1-score   support\n",
      "\n",
      "           0       0.65      0.64      0.64       254\n",
      "           1       0.95      0.95      0.95      1784\n",
      "\n",
      "    accuracy                           0.91      2038\n",
      "   macro avg       0.80      0.79      0.80      2038\n",
      "weighted avg       0.91      0.91      0.91      2038\n",
      "\n"
     ]
    },
    {
     "data": {
      "text/plain": [
       "<AxesSubplot:>"
      ]
     },
     "execution_count": 13,
     "metadata": {},
     "output_type": "execute_result"
    },
    {
     "data": {
      "image/png": "[encoded data removed]",
      "text/plain": [
       "<Figure size 432x288 with 2 Axes>"
      ]
     },
     "metadata": {
      "needs_background": "light"
     },
     "output_type": "display_data"
    }
   ],
   "source": [
    "y_test_pred = (model.predict(x_test) >= final_treshold).astype('int')\n",
    "\n",
    "print(classification_report(y_test, y_test_pred))\n",
    "sns.heatmap(confusion_matrix(y_test, y_test_pred), annot=True)"
   ]
  },
  {
   "cell_type": "markdown",
   "id": "6c94d389",
   "metadata": {},
   "source": [
    "## Save models"
   ]
  },
  {
   "cell_type": "code",
   "execution_count": 14,
   "id": "bc90df35",
   "metadata": {},
   "outputs": [],
   "source": [
    "model.save('base_model.h5')\n",
    "\n",
    "utils.save_model(tfidf_transformer, 'tfidf_transformer.pkl')"
   ]
  },
  {
   "cell_type": "markdown",
   "id": "5ecf5986",
   "metadata": {},
   "source": [
    "## Example test\n",
    "\n",
    "Example of a good and bad french reviews"
   ]
  },
  {
   "cell_type": "code",
   "execution_count": 15,
   "id": "3f84dbb0",
   "metadata": {},
   "outputs": [],
   "source": [
    "good_review_text = \"\"\"Ce film est incroyable! Le jeu d'acteur est sans égal,\n",
    "                    je suis resté scotché sur mon siège tout le long du film!\n",
    "                    Enfin bref le film est un chef-d'oeuvre absolue! Je le recommande vivement.\"\"\"\n",
    "\n",
    "bad_review_text = \"\"\"Je n'ai jamais vu une bouse pareille. Le scénario est complètement incohérent, rien ne va!!\n",
    "                Si on coupait le film en deux que je m'ennuierais toujours. J'ai l'impression que même les acteurs voulaient\n",
    "                s'échapper du film. Si vous ne voulez pas perdre une heure et demi de votre vie, passez votre chemin.\"\"\""
   ]
  },
  {
   "cell_type": "markdown",
   "id": "121207db",
   "metadata": {},
   "source": [
    "Get x by passing them in the tfidf algorithm and predict score"
   ]
  },
  {
   "cell_type": "code",
   "execution_count": 16,
   "id": "d8044d6a",
   "metadata": {},
   "outputs": [
    {
     "data": {
      "text/plain": [
       "array([[9.9998641e-01],\n",
       "       [9.2983246e-04]], dtype=float32)"
      ]
     },
     "execution_count": 16,
     "metadata": {},
     "output_type": "execute_result"
    }
   ],
   "source": [
    "x_examples = tfidf_transformer.transform([good_review_text, bad_review_text])\n",
    "\n",
    "model.predict(x_examples)"
   ]
  },
  {
   "cell_type": "code",
   "execution_count": null,
   "id": "0d28b57e",
   "metadata": {},
   "outputs": [],
   "source": []
  }
 ],
 "metadata": {
  "kernelspec": {
   "display_name": "Python 3 (ipykernel)",
   "language": "python",
   "name": "python3"
  },
  "language_info": {
   "codemirror_mode": {
    "name": "ipython",
    "version": 3
   },
   "file_extension": ".py",
   "mimetype": "text/x-python",
   "name": "python",
   "nbconvert_exporter": "python",
   "pygments_lexer": "ipython3",
   "version": "3.8.12"
  }
 },
 "nbformat": 4,
 "nbformat_minor": 5
}
