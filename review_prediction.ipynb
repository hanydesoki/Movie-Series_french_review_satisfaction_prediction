{
 "cells": [
  {
   "cell_type": "markdown",
   "id": "cf8df2ad",
   "metadata": {},
   "source": [
    "# Movie/Series french review satisfaction prediction\n",
    "\n",
    "## Importation"
   ]
  },
  {
   "cell_type": "code",
   "execution_count": 1,
   "id": "0bccd1e8",
   "metadata": {},
   "outputs": [
    {
     "name": "stderr",
     "output_type": "stream",
     "text": [
      "[nltk_data] Downloading package stopwords to\n",
      "[nltk_data]     C:\\Users\\Hany\\AppData\\Roaming\\nltk_data...\n",
      "[nltk_data]   Package stopwords is already up-to-date!\n",
      "[nltk_data] Downloading package wordnet to\n",
      "[nltk_data]     C:\\Users\\Hany\\AppData\\Roaming\\nltk_data...\n",
      "[nltk_data]   Package wordnet is already up-to-date!\n"
     ]
    }
   ],
   "source": [
    "import pandas as pd\n",
    "import numpy as np\n",
    "import matplotlib.pyplot as plt\n",
    "import seaborn as sns\n",
    "from sklearn.model_selection import train_test_split\n",
    "from sklearn.metrics import accuracy_score, precision_score, recall_score, f1_score, classification_report, confusion_matrix\n",
    "import keras\n",
    "import tqdm\n",
    "\n",
    "from data_science import prexplo, utils\n",
    "from custom_nlp import TFIDFTransformer\n",
    "from mygenerator import MyRange"
   ]
  },
  {
   "cell_type": "markdown",
   "id": "564f6a9f",
   "metadata": {},
   "source": [
    "## Reading data"
   ]
  },
  {
   "cell_type": "code",
   "execution_count": 2,
   "id": "50891ac5",
   "metadata": {},
   "outputs": [],
   "source": [
    "data = pd.read_csv('allocine_reviews.csv')\n",
    "data.drop('Unnamed: 0', axis=1, inplace=True)"
   ]
  },
  {
   "cell_type": "code",
   "execution_count": 3,
   "id": "53860917",
   "metadata": {},
   "outputs": [
    {
     "name": "stdout",
     "output_type": "stream",
     "text": [
      "(10189, 3)\n"
     ]
    },
    {
     "data": {
      "text/html": [
       "<div>\n",
       "<style scoped>\n",
       "    .dataframe tbody tr th:only-of-type {\n",
       "        vertical-align: middle;\n",
       "    }\n",
       "\n",
       "    .dataframe tbody tr th {\n",
       "        vertical-align: top;\n",
       "    }\n",
       "\n",
       "    .dataframe thead th {\n",
       "        text-align: right;\n",
       "    }\n",
       "</style>\n",
       "<table border=\"1\" class=\"dataframe\">\n",
       "  <thead>\n",
       "    <tr style=\"text-align: right;\">\n",
       "      <th></th>\n",
       "      <th>movie_series_name</th>\n",
       "      <th>review_note</th>\n",
       "      <th>review_text</th>\n",
       "    </tr>\n",
       "  </thead>\n",
       "  <tbody>\n",
       "    <tr>\n",
       "      <th>0</th>\n",
       "      <td>Top Gun: Maverick</td>\n",
       "      <td>5.0</td>\n",
       "      <td>\\nEnfin un film qui sort du lot .. même si cer...</td>\n",
       "    </tr>\n",
       "    <tr>\n",
       "      <th>1</th>\n",
       "      <td>Top Gun: Maverick</td>\n",
       "      <td>5.0</td>\n",
       "      <td>\\nIl n'y a pas assez d'étoiles pour qualifier ...</td>\n",
       "    </tr>\n",
       "    <tr>\n",
       "      <th>2</th>\n",
       "      <td>Top Gun: Maverick</td>\n",
       "      <td>4.5</td>\n",
       "      <td>\\nLa suite d'un classique a créé un autre clas...</td>\n",
       "    </tr>\n",
       "    <tr>\n",
       "      <th>3</th>\n",
       "      <td>Top Gun: Maverick</td>\n",
       "      <td>4.5</td>\n",
       "      <td>\\nRares sont les bonnes suites. Alors imaginez...</td>\n",
       "    </tr>\n",
       "    <tr>\n",
       "      <th>4</th>\n",
       "      <td>Top Gun: Maverick</td>\n",
       "      <td>4.0</td>\n",
       "      <td>\\nDès les premières secondes, la nostalgie du ...</td>\n",
       "    </tr>\n",
       "  </tbody>\n",
       "</table>\n",
       "</div>"
      ],
      "text/plain": [
       "   movie_series_name  review_note  \\\n",
       "0  Top Gun: Maverick          5.0   \n",
       "1  Top Gun: Maverick          5.0   \n",
       "2  Top Gun: Maverick          4.5   \n",
       "3  Top Gun: Maverick          4.5   \n",
       "4  Top Gun: Maverick          4.0   \n",
       "\n",
       "                                         review_text  \n",
       "0  \\nEnfin un film qui sort du lot .. même si cer...  \n",
       "1  \\nIl n'y a pas assez d'étoiles pour qualifier ...  \n",
       "2  \\nLa suite d'un classique a créé un autre clas...  \n",
       "3  \\nRares sont les bonnes suites. Alors imaginez...  \n",
       "4  \\nDès les premières secondes, la nostalgie du ...  "
      ]
     },
     "execution_count": 3,
     "metadata": {},
     "output_type": "execute_result"
    }
   ],
   "source": [
    "print(data.shape)\n",
    "data.head()"
   ]
  },
  {
   "cell_type": "code",
   "execution_count": 4,
   "id": "57bfb88d",
   "metadata": {},
   "outputs": [
    {
     "data": {
      "text/html": [
       "<div>\n",
       "<style scoped>\n",
       "    .dataframe tbody tr th:only-of-type {\n",
       "        vertical-align: middle;\n",
       "    }\n",
       "\n",
       "    .dataframe tbody tr th {\n",
       "        vertical-align: top;\n",
       "    }\n",
       "\n",
       "    .dataframe thead th {\n",
       "        text-align: right;\n",
       "    }\n",
       "</style>\n",
       "<table border=\"1\" class=\"dataframe\">\n",
       "  <thead>\n",
       "    <tr style=\"text-align: right;\">\n",
       "      <th></th>\n",
       "      <th>Type</th>\n",
       "      <th>NaN count</th>\n",
       "      <th>NaN frequency</th>\n",
       "      <th>Number of unique values</th>\n",
       "    </tr>\n",
       "  </thead>\n",
       "  <tbody>\n",
       "    <tr>\n",
       "      <th>movie_series_name</th>\n",
       "      <td>object</td>\n",
       "      <td>0</td>\n",
       "      <td>0.0</td>\n",
       "      <td>11</td>\n",
       "    </tr>\n",
       "    <tr>\n",
       "      <th>review_note</th>\n",
       "      <td>float64</td>\n",
       "      <td>0</td>\n",
       "      <td>0.0</td>\n",
       "      <td>10</td>\n",
       "    </tr>\n",
       "    <tr>\n",
       "      <th>review_text</th>\n",
       "      <td>object</td>\n",
       "      <td>0</td>\n",
       "      <td>0.0</td>\n",
       "      <td>10165</td>\n",
       "    </tr>\n",
       "  </tbody>\n",
       "</table>\n",
       "</div>"
      ],
      "text/plain": [
       "                      Type  NaN count  NaN frequency  Number of unique values\n",
       "movie_series_name   object          0            0.0                       11\n",
       "review_note        float64          0            0.0                       10\n",
       "review_text         object          0            0.0                    10165"
      ]
     },
     "execution_count": 4,
     "metadata": {},
     "output_type": "execute_result"
    }
   ],
   "source": [
    "prexplo.describe_columns(data)"
   ]
  },
  {
   "cell_type": "code",
   "execution_count": 5,
   "id": "b1e7ee78",
   "metadata": {},
   "outputs": [
    {
     "data": {
      "text/plain": [
       "Text(0, 0.5, 'Occurences')"
      ]
     },
     "execution_count": 5,
     "metadata": {},
     "output_type": "execute_result"
    },
    {
     "data": {
      "image/png": "[encoded data removed]",
      "text/plain": [
       "<Figure size 432x288 with 1 Axes>"
      ]
     },
     "metadata": {
      "needs_background": "light"
     },
     "output_type": "display_data"
    }
   ],
   "source": [
    "plt.figure()\n",
    "data['review_note'].value_counts().sort_index(ascending=False).plot.bar()\n",
    "plt.grid(True)\n",
    "plt.title('Review ratings')\n",
    "plt.xlabel('Rating')\n",
    "plt.ylabel('Occurences')"
   ]
  },
  {
   "cell_type": "markdown",
   "id": "6c690ade",
   "metadata": {},
   "source": [
    "## Preprocessing"
   ]
  },
  {
   "cell_type": "code",
   "execution_count": 6,
   "id": "3f4957d8",
   "metadata": {},
   "outputs": [],
   "source": [
    "df = data.copy()"
   ]
  },
  {
   "cell_type": "code",
   "execution_count": 7,
   "id": "68197fcb",
   "metadata": {},
   "outputs": [
    {
     "name": "stdout",
     "output_type": "stream",
     "text": [
      "Train shape: (8151, 24537)\n",
      "Test shape: (2038, 24537)\n"
     ]
    }
   ],
   "source": [
    "df_train, df_test = train_test_split(df, test_size=0.2, random_state=0)\n",
    "\n",
    "y_train = (df_train['review_note'] >= 2.5).astype('int').values\n",
    "y_test = (df_test['review_note'] >= 2.5).astype('int').values\n",
    "\n",
    "tfidf_transformer = TFIDFTransformer()\n",
    "tfidf_transformer.fit(df_train['review_text'].values)\n",
    "\n",
    "x_train = tfidf_transformer.transform(df_train['review_text'].values)\n",
    "x_test = tfidf_transformer.transform(df_test['review_text'].values)\n",
    "\n",
    "print('Train shape:', x_train.shape)\n",
    "print('Test shape:', x_test.shape)"
   ]
  },
  {
   "cell_type": "markdown",
   "id": "3507ca82",
   "metadata": {},
   "source": [
    "## Modelisation"
   ]
  },
  {
   "cell_type": "code",
   "execution_count": 8,
   "id": "9541e438",
   "metadata": {},
   "outputs": [
    {
     "name": "stdout",
     "output_type": "stream",
     "text": [
      "Model: \"sequential\"\n",
      "_________________________________________________________________\n",
      "Layer (type)                 Output Shape              Param #   \n",
      "=================================================================\n",
      "dense (Dense)                (None, 128)               3140864   \n",
      "_________________________________________________________________\n",
      "dense_1 (Dense)              (None, 1)                 129       \n",
      "=================================================================\n",
      "Total params: 3,140,993\n",
      "Trainable params: 3,140,993\n",
      "Non-trainable params: 0\n",
      "_________________________________________________________________\n"
     ]
    }
   ],
   "source": [
    "model = keras.Sequential()\n",
    "\n",
    "model.add(keras.layers.Input(shape=(x_train.shape[-1],)))\n",
    "model.add(keras.layers.Dense(128, activation='relu'))\n",
    "model.add(keras.layers.Dense(1, activation='sigmoid'))\n",
    "\n",
    "model.summary()\n",
    "\n",
    "model.compile(optimizer='adam', loss='binary_crossentropy', metrics=[keras.metrics.Recall()])"
   ]
  },
  {
   "cell_type": "code",
   "execution_count": 9,
   "id": "b1cf4979",
   "metadata": {},
   "outputs": [
    {
     "name": "stdout",
     "output_type": "stream",
     "text": [
      "Epoch 1/5\n",
      "128/128 [==============================] - 3s 26ms/step - loss: 0.3946 - recall: 0.9945\n",
      "Epoch 2/5\n",
      "128/128 [==============================] - 4s 29ms/step - loss: 0.2298 - recall: 0.9997\n",
      "Epoch 3/5\n",
      "128/128 [==============================] - 4s 29ms/step - loss: 0.1318 - recall: 0.9972\n",
      "Epoch 4/5\n",
      "128/128 [==============================] - 3s 23ms/step - loss: 0.0694 - recall: 0.9970\n",
      "Epoch 5/5\n",
      "128/128 [==============================] - 3s 23ms/step - loss: 0.0387 - recall: 0.9985\n"
     ]
    },
    {
     "data": {
      "text/plain": [
       "<tensorflow.python.keras.callbacks.History at 0x1cf46885c10>"
      ]
     },
     "execution_count": 9,
     "metadata": {},
     "output_type": "execute_result"
    }
   ],
   "source": [
    "model.fit(x_train, y_train, batch_size=64, epochs=5)"
   ]
  },
  {
   "cell_type": "code",
   "execution_count": 10,
   "id": "5f28555d",
   "metadata": {},
   "outputs": [
    {
     "name": "stderr",
     "output_type": "stream",
     "text": [
      "100%|██████████| 9/9 [00:27<00:00,  3.06s/it]\n"
     ]
    }
   ],
   "source": [
    "tresholds = MyRange(0.1, 1, 0.1)\n",
    "\n",
    "train_acc = []\n",
    "test_acc = []\n",
    "train_prec = []\n",
    "test_prec = []\n",
    "train_rec = []\n",
    "test_rec = []\n",
    "train_f1 = []\n",
    "test_f1 = []\n",
    "\n",
    "\n",
    "for t in tqdm.tqdm(tresholds):\n",
    "    y_train_pred = (model.predict(x_train) > t).astype('int')\n",
    "    y_test_pred = (model.predict(x_test) > t).astype('int')\n",
    "    \n",
    "    train_acc.append(accuracy_score(y_train, y_train_pred))\n",
    "    test_acc.append(accuracy_score(y_test, y_test_pred))\n",
    "    \n",
    "    train_prec.append(precision_score(y_train, y_train_pred))\n",
    "    test_prec.append(precision_score(y_test, y_test_pred))\n",
    "    \n",
    "    train_rec.append(recall_score(y_train, y_train_pred))\n",
    "    test_rec.append(recall_score(y_test, y_test_pred))\n",
    "    \n",
    "    train_f1.append(f1_score(y_train, y_train_pred))\n",
    "    test_f1.append(f1_score(y_test, y_test_pred))"
   ]
  },
  {
   "cell_type": "markdown",
   "id": "296c6ce0",
   "metadata": {},
   "source": [
    "## Evaluation"
   ]
  },
  {
   "cell_type": "code",
   "execution_count": 11,
   "id": "b7d30dcb",
   "metadata": {},
   "outputs": [
    {
     "data": {
      "text/plain": [
       "Text(0.5, 1.0, 'Score evolution with different decision tresholds.')"
      ]
     },
     "execution_count": 11,
     "metadata": {},
     "output_type": "execute_result"
    },
    {
     "data": {
      "image/png": "[encoded data removed]",
      "text/plain": [
       "<Figure size 864x576 with 1 Axes>"
      ]
     },
     "metadata": {
      "needs_background": "light"
     },
     "output_type": "display_data"
    }
   ],
   "source": [
    "plt.figure(figsize=(12, 8))\n",
    "\n",
    "#'-', '--', '-.', ':', ''\n",
    "\n",
    "plt.plot(tresholds, train_acc, label='Train accuracy', c='b', linestyle='-')\n",
    "plt.plot(tresholds, train_prec, label='Train precision', c='b', linestyle='--')\n",
    "plt.plot(tresholds, train_rec, label='Train recall', c='b', linestyle=':')\n",
    "plt.plot(tresholds, train_f1, label='Train f1', c='b', linestyle='-.')\n",
    "\n",
    "plt.plot(tresholds, test_acc, label='Test accuracy', c='r', linestyle='-')\n",
    "plt.plot(tresholds, test_prec, label='Test precision', c='r', linestyle='--')\n",
    "plt.plot(tresholds, test_rec, label='Test recall', c='r', linestyle=':')\n",
    "plt.plot(tresholds, test_f1, label='Test f1', c='r', linestyle='-.')\n",
    "\n",
    "plt.xlabel('Treshold')\n",
    "plt.ylabel('Score')\n",
    "plt.legend()\n",
    "\n",
    "plt.title('Score evolution with different decision tresholds.')"
   ]
  },
  {
   "cell_type": "markdown",
   "id": "6f008929",
   "metadata": {},
   "source": [
    "### Train"
   ]
  },
  {
   "cell_type": "code",
   "execution_count": 12,
   "id": "c1739940",
   "metadata": {},
   "outputs": [
    {
     "name": "stdout",
     "output_type": "stream",
     "text": [
      "              precision    recall  f1-score   support\n",
      "\n",
      "           0       0.99      0.98      0.99       916\n",
      "           1       1.00      1.00      1.00      7235\n",
      "\n",
      "    accuracy                           1.00      8151\n",
      "   macro avg       0.99      0.99      0.99      8151\n",
      "weighted avg       1.00      1.00      1.00      8151\n",
      "\n"
     ]
    },
    {
     "data": {
      "text/plain": [
       "<AxesSubplot:>"
      ]
     },
     "execution_count": 12,
     "metadata": {},
     "output_type": "execute_result"
    },
    {
     "data": {
      "image/png": "[encoded data removed]",
      "text/plain": [
       "<Figure size 432x288 with 2 Axes>"
      ]
     },
     "metadata": {
      "needs_background": "light"
     },
     "output_type": "display_data"
    }
   ],
   "source": [
    "final_treshold = 0.65\n",
    "\n",
    "y_train_pred = (model.predict(x_train) >= final_treshold).astype('int')\n",
    "\n",
    "print(classification_report(y_train, y_train_pred))\n",
    "sns.heatmap(confusion_matrix(y_train, y_train_pred), annot=True)"
   ]
  },
  {
   "cell_type": "markdown",
   "id": "e4e3e551",
   "metadata": {},
   "source": [
    "### Test"
   ]
  },
  {
   "cell_type": "code",
   "execution_count": 13,
   "id": "f165bdb2",
   "metadata": {},
   "outputs": [
    {
     "name": "stdout",
     "output_type": "stream",
     "text": [
      "              precision    recall  f1-score   support\n",
      "\n",
      "           0       0.69      0.64      0.66       254\n",
      "           1       0.95      0.96      0.95      1784\n",
      "\n",
      "    accuracy                           0.92      2038\n",
      "   macro avg       0.82      0.80      0.81      2038\n",
      "weighted avg       0.92      0.92      0.92      2038\n",
      "\n"
     ]
    },
    {
     "data": {
      "text/plain": [
       "<AxesSubplot:>"
      ]
     },
     "execution_count": 13,
     "metadata": {},
     "output_type": "execute_result"
    },
    {
     "data": {
      "image/png": "[encoded data removed]",
      "text/plain": [
       "<Figure size 432x288 with 2 Axes>"
      ]
     },
     "metadata": {
      "needs_background": "light"
     },
     "output_type": "display_data"
    }
   ],
   "source": [
    "y_test_pred = (model.predict(x_test) >= final_treshold).astype('int')\n",
    "\n",
    "print(classification_report(y_test, y_test_pred))\n",
    "sns.heatmap(confusion_matrix(y_test, y_test_pred), annot=True)"
   ]
  },
  {
   "cell_type": "code",
   "execution_count": 14,
   "id": "fe7e11b2",
   "metadata": {},
   "outputs": [],
   "source": [
    "model.save('base_model.h5')\n",
    "\n",
    "utils.save_model(tfidf_transformer, 'tfidf_transformer.pkl')"
   ]
  },
  {
   "cell_type": "markdown",
   "id": "25b7f46b",
   "metadata": {},
   "source": [
    "## Example test"
   ]
  },
  {
   "cell_type": "code",
   "execution_count": 15,
   "id": "4132362e",
   "metadata": {},
   "outputs": [],
   "source": [
    "good_review_text = \"\"\"Ce film est incroyable! Le jeu d'acteur est sans égal,\n",
    "                    je suis resté scotché sur mon siège tout le long du film!\n",
    "                    Enfin bref le film est un chef-d'oeuvre absolue! Je le recommande vivement.\"\"\"\n",
    "\n",
    "\n",
    "bad_review_text = \"\"\"Je n'ai jamais vu une bouse pareille. Le scénario est complètement incohérent, rien ne vas!!\n",
    "                On aurai coupé le film en deux que je m'ennuierais toujours. J'ai l'impression que même les acteurs voulaient\n",
    "                s'échapper du film. Si vous voulez ne pas perdre une heure et demi de votre vie, passez votre chemin.\"\"\""
   ]
  },
  {
   "cell_type": "code",
   "execution_count": 16,
   "id": "53707e2a",
   "metadata": {},
   "outputs": [
    {
     "data": {
      "text/plain": [
       "array([[0.9968579 ],\n",
       "       [0.04222924]], dtype=float32)"
      ]
     },
     "execution_count": 16,
     "metadata": {},
     "output_type": "execute_result"
    }
   ],
   "source": [
    "x_examples = tfidf_transformer.transform([good_review_text, bad_review_text])\n",
    "\n",
    "model.predict(x_examples)"
   ]
  },
  {
   "cell_type": "code",
   "execution_count": null,
   "id": "4dd0b48f",
   "metadata": {},
   "outputs": [],
   "source": []
  }
 ],
 "metadata": {
  "kernelspec": {
   "display_name": "Python 3 (ipykernel)",
   "language": "python",
   "name": "python3"
  },
  "language_info": {
   "codemirror_mode": {
    "name": "ipython",
    "version": 3
   },
   "file_extension": ".py",
   "mimetype": "text/x-python",
   "name": "python",
   "nbconvert_exporter": "python",
   "pygments_lexer": "ipython3",
   "version": "3.8.12"
  }
 },
 "nbformat": 4,
 "nbformat_minor": 5
}
